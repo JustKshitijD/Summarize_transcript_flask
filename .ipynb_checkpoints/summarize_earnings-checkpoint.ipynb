{
  "nbformat": 4,
  "nbformat_minor": 0,
  "metadata": {
    "colab": {
      "provenance": []
    },
    "kernelspec": {
      "name": "python3",
      "display_name": "Python 3"
    },
    "language_info": {
      "name": "python"
    }
  },
  "cells": [
    {
      "cell_type": "markdown",
      "source": [],
      "metadata": {
        "id": "luCCJdQo7F-P"
      }
    },
    {
      "cell_type": "code",
      "execution_count": 17,
      "metadata": {
        "colab": {
          "base_uri": "https://localhost:8080/"
        },
        "id": "YDxQMjvA7DFd",
        "outputId": "7a00d673-6701-4a37-f653-e24e81f621cc"
      },
      "outputs": [
        {
          "output_type": "stream",
          "name": "stdout",
          "text": [
            "Python 3.10.12\n"
          ]
        }
      ],
      "source": [
        "import os\n",
        "!python3 --version"
      ]
    },
    {
      "cell_type": "code",
      "source": [
        "!pip install requests\n",
        "!pip install google-generativeai\n",
        "!pip install pdfplumber\n",
        "!pip install flask\n",
        "# pyngrok"
      ],
      "metadata": {
        "colab": {
          "base_uri": "https://localhost:8080/"
        },
        "id": "I9qPLn6F7Rky",
        "outputId": "60266d57-e2ac-4393-e4d2-5c835d1c2d7d"
      },
      "execution_count": 42,
      "outputs": [
        {
          "output_type": "stream",
          "name": "stdout",
          "text": [
            "Requirement already satisfied: requests in /usr/local/lib/python3.10/dist-packages (2.32.3)\n",
            "Requirement already satisfied: charset-normalizer<4,>=2 in /usr/local/lib/python3.10/dist-packages (from requests) (3.4.0)\n",
            "Requirement already satisfied: idna<4,>=2.5 in /usr/local/lib/python3.10/dist-packages (from requests) (3.10)\n",
            "Requirement already satisfied: urllib3<3,>=1.21.1 in /usr/local/lib/python3.10/dist-packages (from requests) (2.2.3)\n",
            "Requirement already satisfied: certifi>=2017.4.17 in /usr/local/lib/python3.10/dist-packages (from requests) (2024.12.14)\n",
            "Requirement already satisfied: google-generativeai in /usr/local/lib/python3.10/dist-packages (0.8.3)\n",
            "Requirement already satisfied: google-ai-generativelanguage==0.6.10 in /usr/local/lib/python3.10/dist-packages (from google-generativeai) (0.6.10)\n",
            "Requirement already satisfied: google-api-core in /usr/local/lib/python3.10/dist-packages (from google-generativeai) (2.19.2)\n",
            "Requirement already satisfied: google-api-python-client in /usr/local/lib/python3.10/dist-packages (from google-generativeai) (2.155.0)\n",
            "Requirement already satisfied: google-auth>=2.15.0 in /usr/local/lib/python3.10/dist-packages (from google-generativeai) (2.27.0)\n",
            "Requirement already satisfied: protobuf in /usr/local/lib/python3.10/dist-packages (from google-generativeai) (4.25.5)\n",
            "Requirement already satisfied: pydantic in /usr/local/lib/python3.10/dist-packages (from google-generativeai) (2.10.3)\n",
            "Requirement already satisfied: tqdm in /usr/local/lib/python3.10/dist-packages (from google-generativeai) (4.67.1)\n",
            "Requirement already satisfied: typing-extensions in /usr/local/lib/python3.10/dist-packages (from google-generativeai) (4.12.2)\n",
            "Requirement already satisfied: proto-plus<2.0.0dev,>=1.22.3 in /usr/local/lib/python3.10/dist-packages (from google-ai-generativelanguage==0.6.10->google-generativeai) (1.25.0)\n",
            "Requirement already satisfied: googleapis-common-protos<2.0.dev0,>=1.56.2 in /usr/local/lib/python3.10/dist-packages (from google-api-core->google-generativeai) (1.66.0)\n",
            "Requirement already satisfied: requests<3.0.0.dev0,>=2.18.0 in /usr/local/lib/python3.10/dist-packages (from google-api-core->google-generativeai) (2.32.3)\n",
            "Requirement already satisfied: cachetools<6.0,>=2.0.0 in /usr/local/lib/python3.10/dist-packages (from google-auth>=2.15.0->google-generativeai) (5.5.0)\n",
            "Requirement already satisfied: pyasn1-modules>=0.2.1 in /usr/local/lib/python3.10/dist-packages (from google-auth>=2.15.0->google-generativeai) (0.4.1)\n",
            "Requirement already satisfied: rsa<5,>=3.1.4 in /usr/local/lib/python3.10/dist-packages (from google-auth>=2.15.0->google-generativeai) (4.9)\n",
            "Requirement already satisfied: httplib2<1.dev0,>=0.19.0 in /usr/local/lib/python3.10/dist-packages (from google-api-python-client->google-generativeai) (0.22.0)\n",
            "Requirement already satisfied: google-auth-httplib2<1.0.0,>=0.2.0 in /usr/local/lib/python3.10/dist-packages (from google-api-python-client->google-generativeai) (0.2.0)\n",
            "Requirement already satisfied: uritemplate<5,>=3.0.1 in /usr/local/lib/python3.10/dist-packages (from google-api-python-client->google-generativeai) (4.1.1)\n",
            "Requirement already satisfied: annotated-types>=0.6.0 in /usr/local/lib/python3.10/dist-packages (from pydantic->google-generativeai) (0.7.0)\n",
            "Requirement already satisfied: pydantic-core==2.27.1 in /usr/local/lib/python3.10/dist-packages (from pydantic->google-generativeai) (2.27.1)\n",
            "Requirement already satisfied: grpcio<2.0dev,>=1.33.2 in /usr/local/lib/python3.10/dist-packages (from google-api-core[grpc]!=2.0.*,!=2.1.*,!=2.10.*,!=2.2.*,!=2.3.*,!=2.4.*,!=2.5.*,!=2.6.*,!=2.7.*,!=2.8.*,!=2.9.*,<3.0.0dev,>=1.34.1->google-ai-generativelanguage==0.6.10->google-generativeai) (1.68.1)\n",
            "Requirement already satisfied: grpcio-status<2.0.dev0,>=1.33.2 in /usr/local/lib/python3.10/dist-packages (from google-api-core[grpc]!=2.0.*,!=2.1.*,!=2.10.*,!=2.2.*,!=2.3.*,!=2.4.*,!=2.5.*,!=2.6.*,!=2.7.*,!=2.8.*,!=2.9.*,<3.0.0dev,>=1.34.1->google-ai-generativelanguage==0.6.10->google-generativeai) (1.62.3)\n",
            "Requirement already satisfied: pyparsing!=3.0.0,!=3.0.1,!=3.0.2,!=3.0.3,<4,>=2.4.2 in /usr/local/lib/python3.10/dist-packages (from httplib2<1.dev0,>=0.19.0->google-api-python-client->google-generativeai) (3.2.0)\n",
            "Requirement already satisfied: pyasn1<0.7.0,>=0.4.6 in /usr/local/lib/python3.10/dist-packages (from pyasn1-modules>=0.2.1->google-auth>=2.15.0->google-generativeai) (0.6.1)\n",
            "Requirement already satisfied: charset-normalizer<4,>=2 in /usr/local/lib/python3.10/dist-packages (from requests<3.0.0.dev0,>=2.18.0->google-api-core->google-generativeai) (3.4.0)\n",
            "Requirement already satisfied: idna<4,>=2.5 in /usr/local/lib/python3.10/dist-packages (from requests<3.0.0.dev0,>=2.18.0->google-api-core->google-generativeai) (3.10)\n",
            "Requirement already satisfied: urllib3<3,>=1.21.1 in /usr/local/lib/python3.10/dist-packages (from requests<3.0.0.dev0,>=2.18.0->google-api-core->google-generativeai) (2.2.3)\n",
            "Requirement already satisfied: certifi>=2017.4.17 in /usr/local/lib/python3.10/dist-packages (from requests<3.0.0.dev0,>=2.18.0->google-api-core->google-generativeai) (2024.12.14)\n",
            "Requirement already satisfied: pdfplumber in /usr/local/lib/python3.10/dist-packages (0.11.4)\n",
            "Requirement already satisfied: pdfminer.six==20231228 in /usr/local/lib/python3.10/dist-packages (from pdfplumber) (20231228)\n",
            "Requirement already satisfied: Pillow>=9.1 in /usr/local/lib/python3.10/dist-packages (from pdfplumber) (11.0.0)\n",
            "Requirement already satisfied: pypdfium2>=4.18.0 in /usr/local/lib/python3.10/dist-packages (from pdfplumber) (4.30.1)\n",
            "Requirement already satisfied: charset-normalizer>=2.0.0 in /usr/local/lib/python3.10/dist-packages (from pdfminer.six==20231228->pdfplumber) (3.4.0)\n",
            "Requirement already satisfied: cryptography>=36.0.0 in /usr/local/lib/python3.10/dist-packages (from pdfminer.six==20231228->pdfplumber) (43.0.3)\n",
            "Requirement already satisfied: cffi>=1.12 in /usr/local/lib/python3.10/dist-packages (from cryptography>=36.0.0->pdfminer.six==20231228->pdfplumber) (1.17.1)\n",
            "Requirement already satisfied: pycparser in /usr/local/lib/python3.10/dist-packages (from cffi>=1.12->cryptography>=36.0.0->pdfminer.six==20231228->pdfplumber) (2.22)\n",
            "Requirement already satisfied: flask in /usr/local/lib/python3.10/dist-packages (3.1.0)\n",
            "Requirement already satisfied: Werkzeug>=3.1 in /usr/local/lib/python3.10/dist-packages (from flask) (3.1.3)\n",
            "Requirement already satisfied: Jinja2>=3.1.2 in /usr/local/lib/python3.10/dist-packages (from flask) (3.1.4)\n",
            "Requirement already satisfied: itsdangerous>=2.2 in /usr/local/lib/python3.10/dist-packages (from flask) (2.2.0)\n",
            "Requirement already satisfied: click>=8.1.3 in /usr/local/lib/python3.10/dist-packages (from flask) (8.1.7)\n",
            "Requirement already satisfied: blinker>=1.9 in /usr/local/lib/python3.10/dist-packages (from flask) (1.9.0)\n",
            "Requirement already satisfied: MarkupSafe>=2.0 in /usr/local/lib/python3.10/dist-packages (from Jinja2>=3.1.2->flask) (3.0.2)\n"
          ]
        }
      ]
    },
    {
      "cell_type": "markdown",
      "source": [
        "**SET API KEY**"
      ],
      "metadata": {
        "id": "1elADNe4960t"
      }
    },
    {
      "cell_type": "code",
      "source": [
        "os.environ[\"API_KEY\"]=\"\"    # ADD YOUR API KEY - IMPORTANT\n",
        "if \"API_KEY\" not in os.environ:\n",
        "    raise ValueError(\"API_KEY environment variable is not set.\")"
      ],
      "metadata": {
        "id": "rqh_rPPl75Vw"
      },
      "execution_count": 44,
      "outputs": []
    },
    {
      "cell_type": "markdown",
      "source": [
        "**EXTRACT TEXT FROM PDF**"
      ],
      "metadata": {
        "id": "lB-rlkgZA5JV"
      }
    },
    {
      "cell_type": "code",
      "source": [
        "import pdfplumber\n",
        "\n",
        "def extract_text_from_pdf(pdf_file):\n",
        "    text = \"\"\n",
        "    with pdfplumber.open(pdf_file) as pdf:\n",
        "        for page in pdf.pages:\n",
        "            text += page.extract_text() or \"\"\n",
        "    return text"
      ],
      "metadata": {
        "id": "K6gQsuOa7Ib0"
      },
      "execution_count": 45,
      "outputs": []
    },
    {
      "cell_type": "markdown",
      "source": [
        "**Connecting to Google drive to read the earnings call of transcript of Dr Lal Pathlabs and One97 uploaded there**"
      ],
      "metadata": {
        "id": "fHojwX0mtpL2"
      }
    },
    {
      "cell_type": "code",
      "source": [
        "from google.colab import drive\n",
        "\n",
        "# Mount Google Drive\n",
        "drive.mount('/content/drive')"
      ],
      "metadata": {
        "colab": {
          "base_uri": "https://localhost:8080/"
        },
        "id": "J4RKh1Qq6pkZ",
        "outputId": "899f2e3d-78b9-4495-a4b6-5ecc3a781582"
      },
      "execution_count": 46,
      "outputs": [
        {
          "output_type": "stream",
          "name": "stdout",
          "text": [
            "Drive already mounted at /content/drive; to attempt to forcibly remount, call drive.mount(\"/content/drive\", force_remount=True).\n"
          ]
        }
      ]
    },
    {
      "cell_type": "code",
      "source": [
        "file_path_1 = '/content/drive/My Drive/Earning Call Transcript - Dr Lal Pathlabs.pdf'\n",
        "file_path_2 = '/content/drive/My Drive/Earning Call Transcript - One97 (Paytm).pdf'\n",
        "\n",
        "text_dr_lal_pathlabs = extract_text_from_pdf(file_path_1)\n",
        "text_one97 = extract_text_from_pdf(file_path_2)"
      ],
      "metadata": {
        "id": "ivvs8Msw6tyb"
      },
      "execution_count": 47,
      "outputs": []
    },
    {
      "cell_type": "markdown",
      "source": [
        "**Summarize_text function calls Gemini-1.5-flash to summarize section (finanical performance, market dynamics, etc.) in text (transcript) of company (One97, etc.)**"
      ],
      "metadata": {
        "id": "2TgCJQ8XueuD"
      }
    },
    {
      "cell_type": "code",
      "source": [
        "# Function to get a summary\n",
        "def summarize_text(text, section, company):\n",
        "    model = genai.GenerativeModel(\"gemini-1.5-flash\")\n",
        "    response = model.generate_content([f\"Please summarize the {section} from {company} company's earning transcript:\\n\\n{text}\"])    # We said 'Please summarize the following text', so it will summarize\n",
        "    return response.text\n"
      ],
      "metadata": {
        "id": "Bx9qNCT28ATO"
      },
      "execution_count": 49,
      "outputs": []
    },
    {
      "cell_type": "markdown",
      "source": [
        "**SUMMARIZE VIA FLASK APP**"
      ],
      "metadata": {
        "id": "GAUc5kGcmWtN"
      }
    },
    {
      "cell_type": "code",
      "source": [
        "from flask import Flask, request, jsonify\n",
        "\n",
        "app = Flask(__name__)\n",
        "\n",
        "@app.route(\"/\")\n",
        "def home():\n",
        "    return {\"message\": \"Welcome to the Flask API running on Colab!\"}\n",
        "\n",
        "@app.route(\"/earnings_transcript_summary\", methods=[\"POST\"])\n",
        "def summarize():\n",
        "    data = request.get_json()\n",
        "\n",
        "    # Check for missing fields  - Error handling\n",
        "    if \"transcript_text\" not in data:\n",
        "      return jsonify({\"error\": \"No transcript_text content provided\"}), 400\n",
        "    if \"company_name\" not in data:\n",
        "      return jsonify({\"error\": \"No company_name provided\"}), 400\n",
        "\n",
        "    content = data.get(\"transcript_text\", \"\")\n",
        "    company_name=data.get(\"company_name\", \"\")\n",
        "\n",
        "    # Check for empty data- Error handling\n",
        "    if not content:\n",
        "        return jsonify({\"error\": \"No transcript_text content provided\"}), 400\n",
        "    if not company_name:\n",
        "        return jsonify({\"error\": \"No company_name provided\"}), 400\n",
        "\n",
        "    summary_financial_performance = summarize_text(content,\"financial performance\",company_name)\n",
        "    summary_market_dynamics = summarize_text(content,\"market dynamics\",company_name)\n",
        "    summary_expansion_plans = summarize_text(content,\"expansion plans\",company_name)\n",
        "    summary_environmental_risks = summarize_text(content,\"environmental_risks\",company_name)\n",
        "    summary_regulatory_or_policy_changes = summarize_text(content,\"regulatory or policy changes\",company_name)\n",
        "\n",
        "    return jsonify({\"company_name\": company_name, \"financial_performance\": summary_financial_performance, \"market_dynamics\": summary_market_dynamics, \"expansion_plans\": summary_expansion_plans, \"environmental_risks\": summary_environmental_risks, \"regulatory_or_policy_changes\": summary_regulatory_or_policy_changes})\n"
      ],
      "metadata": {
        "id": "S6yFEJOompZh"
      },
      "execution_count": 50,
      "outputs": []
    },
    {
      "cell_type": "markdown",
      "source": [
        "**Start app**"
      ],
      "metadata": {
        "id": "FgEKJti9u8Od"
      }
    },
    {
      "cell_type": "code",
      "source": [
        "from threading import Thread\n",
        "\n",
        "# Function to run the app\n",
        "def run_app():\n",
        "    app.run(host='0.0.0.0', port=5002)\n",
        "\n",
        "# Start the app in a separate thread\n",
        "Thread(target=run_app).start()"
      ],
      "metadata": {
        "colab": {
          "base_uri": "https://localhost:8080/"
        },
        "id": "-gj8JiCHrVu_",
        "outputId": "7f139011-fad7-4453-9ae5-35015c7e3818"
      },
      "execution_count": 52,
      "outputs": [
        {
          "output_type": "stream",
          "name": "stdout",
          "text": [
            " * Serving Flask app '__main__'\n",
            " * Debug mode: off\n"
          ]
        },
        {
          "output_type": "stream",
          "name": "stderr",
          "text": [
            "INFO:werkzeug:\u001b[31m\u001b[1mWARNING: This is a development server. Do not use it in a production deployment. Use a production WSGI server instead.\u001b[0m\n",
            " * Running on all addresses (0.0.0.0)\n",
            " * Running on http://127.0.0.1:5002\n",
            " * Running on http://172.28.0.12:5002\n",
            "INFO:werkzeug:\u001b[33mPress CTRL+C to quit\u001b[0m\n"
          ]
        }
      ]
    },
    {
      "cell_type": "code",
      "source": [
        "company1=\"Dr Lal Pathlabs\"\n",
        "text_dr_lal_pathlabs = extract_text_from_pdf(file_path_1)\n",
        "\n",
        "company2=\"One97 (Paytm)\"\n",
        "text_one97 = extract_text_from_pdf(file_path_2)"
      ],
      "metadata": {
        "id": "Ztc5XtjtRxp2"
      },
      "execution_count": 53,
      "outputs": []
    },
    {
      "cell_type": "markdown",
      "source": [
        "**Local test - Summarize Dr Lal Pathlabs**"
      ],
      "metadata": {
        "id": "KHaCbH_nvIFS"
      }
    },
    {
      "cell_type": "code",
      "source": [
        "import requests\n",
        "import json\n",
        "\n",
        "# Define the company name and transcript text\n",
        "company_name = \"Dr Lal Pathlabs\"\n",
        "transcript_text = text_dr_lal_pathlabs\n",
        "\n",
        "# Create the payload\n",
        "payload = {\n",
        "    \"company_name\": company_name,\n",
        "    \"transcript_text\": transcript_text\n",
        "}\n",
        "\n",
        "# Define the API endpoint\n",
        "url = \"http://127.0.0.1:5002/earnings_transcript_summary\"\n",
        "\n",
        "# Send the POST request with the JSON payload\n",
        "response = requests.post(url, json=payload)\n",
        "\n",
        "# Print the response\n",
        "if response.status_code == 200:\n",
        "    print(\"Response:\", response.json())\n",
        "else:\n",
        "    print(\"Error:\", response.status_code, response.text)\n"
      ],
      "metadata": {
        "colab": {
          "base_uri": "https://localhost:8080/",
          "height": 72
        },
        "id": "x8jVXXp3rcZe",
        "outputId": "22098411-889f-4661-cb76-45f9eaa4137f"
      },
      "execution_count": 54,
      "outputs": [
        {
          "output_type": "stream",
          "name": "stderr",
          "text": [
            "INFO:werkzeug:127.0.0.1 - - [30/Dec/2024 04:05:55] \"POST /earnings_transcript_summary HTTP/1.1\" 200 -\n"
          ]
        },
        {
          "output_type": "stream",
          "name": "stdout",
          "text": [
            "Response: {'company_name': 'Dr Lal Pathlabs', 'environmental_risks': 'The Dr Lal PathLabs Q2 & H1 FY25 earnings transcript does not explicitly mention specific environmental risks.  The discussion focuses on business performance, market dynamics, expansion plans, and financial results.  There is no mention of waste disposal, emissions, resource consumption, or other environmental concerns related to their operations.\\n', 'expansion_plans': \"Dr. Lal PathLabs' Q2 FY25 earnings call revealed expansion plans focused on organic growth, primarily through:\\n\\n* **Adding 15-20 new labs** in FY25, with approximately half already opened in H1.  This expansion is targeting Tier 3 and Tier 4 markets, particularly in core North and East geographies, and deepening penetration in core regions.  The plan may continue at a similar pace for another year, but then return to a pre-COVID level of expansion.\\n\\n* **Increasing the number of collection centers** to support the new labs and meet growing demand.  The hub-and-spoke model will remain, but with a greater emphasis on reaching consumers in underserved areas.\\n\\n* **Expanding Swasthfit bundled testing** beyond Tier 2 markets to address the rising demand for non-communicable disease management.  This strategy is already showing traction in Tier 3 and Tier 4 areas.\\n\\n* **Targeted brand campaigns** in selected cities to enhance visibility and patient loyalty.\\n\\nWhile the company is primarily focused on organic growth, they are also evaluating inorganic options that align with their objectives and values.  There was no specific mention of a large-scale inorganic expansion, but the possibility remains.\\n\", 'financial_performance': 'Dr. Lal PathLabs\\' Q2 FY25 earnings call revealed strong financial performance.  Revenue reached ₹660 crore (a 9.8% YoY increase), driven by an 8.6% rise in sample volumes (23 million) and a 3.9% increase in patient volumes (7.8 million).  Revenue per patient increased to ₹844 (5.7% YoY growth), attributed to product and geography mix, not price hikes.\\n\\nProfitability also improved significantly. EBITDA grew by 13.9% to ₹202 crore (30.7% margin), PBT by 20.3% to ₹183 crore (27.7% margin), and PAT by 18.1% to ₹131 crore (19.8% margin).  The company\\'s EPS reached ₹15.5.  Improved profitability stemmed from operating leverage and cost optimization through technology.  The company maintained a strong net cash position of ₹1,095 crore and negative working capital.  A second interim dividend of ₹6 per share was approved.\\n\\nGrowth was relatively uniform across regions, with the West region performing slightly better than the company average.  The \"Swasthfit\" bundled test program, contributing nearly 24% of revenue, showed continued success.  The company plans to expand its network by 15-20 labs this fiscal year, focusing on Tier 3 and 4 markets. While management expressed confidence in organic growth, they also indicated ongoing evaluation of inorganic opportunities.  The company plans to reinvest some of its improved margins to drive further volume growth and expansion.  While the company hasn\\'t raised prices, management didn\\'t rule out future price increases if inflation necessitates it.\\n', 'market_dynamics': 'Dr. Lal PathLabs\\' Q2 FY25 earnings call highlighted a competitive but stable market.  The company maintained its market position through brand strength, service quality, and network expansion into underserved Tier-3 and Tier-4 regions.  Growth is driven by increasing sample volumes (8.6% YoY) fueled by bundled test packages (\"Swasthfit,\" now 24% of revenue), which improve realization per patient and simplify business processes.  While competition remains, irrational pricing and discounting have lessened.  The company prioritizes organic growth through network expansion (15-20 new labs planned for FY25) and targeted marketing, while also evaluating inorganic opportunities.  Management expects consistent, low double-digit growth, with a focus on volume expansion rather than solely margin improvement, at least for the near term.  The Suburban acquisition continues to perform well, exceeding company average growth.  While price increases haven\\'t been implemented, the company hasn\\'t ruled them out in the future if needed to offset inflationary pressures.\\n', 'regulatory_or_policy_changes': 'The Dr. Lal PathLabs Q2 & H1 FY25 earnings transcript does not explicitly detail specific regulatory or policy changes impacting the company.  However, the discussion implicitly highlights the company\\'s response to the evolving healthcare landscape in India:\\n\\n* **Increased focus on bundled test packages (\"Swasthfit\"):** This trend, driven by market forces, is leading to higher realization per patient and simplified business processes.  There\\'s no mention of specific regulations driving this, but it suggests an adaptation to market demand and possibly indirectly reflects policies promoting preventative healthcare.\\n\\n* **Expansion into Tier 3 and Tier 4 markets:**  This reflects a strategy to tap into underserved areas, which could be indirectly influenced by government initiatives to improve healthcare access in rural areas.  However, no specific policies are mentioned.\\n\\n* **Digital integration and home diagnostic services:** The company\\'s investment in these areas suggests a response to changing consumer preferences and technological advancements, rather than direct regulatory pressure.\\n\\nThe transcript focuses more on the company\\'s strategic responses to market trends and its internal operational changes than on specific regulatory or policy updates.\\n'}\n"
          ]
        }
      ]
    },
    {
      "cell_type": "markdown",
      "source": [
        "**Local test - Summarize One97 (Paytm)**"
      ],
      "metadata": {
        "id": "5IgMmae5vddU"
      }
    },
    {
      "cell_type": "code",
      "source": [
        "import requests\n",
        "import json\n",
        "\n",
        "# Define the company name and transcript text\n",
        "company_name = \"One97 (Paytm)\"\n",
        "transcript_text = text_one97\n",
        "\n",
        "# Create the payload\n",
        "payload = {\n",
        "    \"company_name\": company_name,\n",
        "    \"transcript_text\": transcript_text\n",
        "}\n",
        "\n",
        "# Define the API endpoint\n",
        "url = \"http://127.0.0.1:5002/earnings_transcript_summary\"\n",
        "\n",
        "# Send the POST request with the JSON payload\n",
        "response = requests.post(url, json=payload)\n",
        "\n",
        "# Print the response\n",
        "if response.status_code == 200:\n",
        "    print(\"Response:\", response.json())\n",
        "else:\n",
        "    print(\"Error:\", response.status_code, response.text)\n"
      ],
      "metadata": {
        "colab": {
          "base_uri": "https://localhost:8080/",
          "height": 72
        },
        "id": "_LBiQlV0APOU",
        "outputId": "de914207-545a-4185-d3f0-790e284c9ae2"
      },
      "execution_count": 55,
      "outputs": [
        {
          "output_type": "stream",
          "name": "stderr",
          "text": [
            "INFO:werkzeug:127.0.0.1 - - [30/Dec/2024 04:06:32] \"POST /earnings_transcript_summary HTTP/1.1\" 200 -\n"
          ]
        },
        {
          "output_type": "stream",
          "name": "stdout",
          "text": [
            "Response: {'company_name': 'One97 (Paytm)', 'environmental_risks': \"The Paytm earnings transcript does not directly discuss environmental risks.  The conversation focuses entirely on the company's financial performance, specifically its lending models (including the Direct Lending Guarantee model), cost reduction strategies, revenue streams, and future plans.  There is no mention of carbon footprint, environmental impact of operations, sustainability initiatives, or any other environmental concerns.\\n\", 'expansion_plans': \"Paytm's expansion plans, as discussed in the October 22, 2024 earnings call transcript, focus on several key areas:\\n\\n* **Lending Business Expansion:**  Paytm is expanding its lending business through the adoption of the Direct Loan Guarantee (DLG) model with existing and new lending partners.  While the DLG model involves upfront costs, Paytm expects the overall take rate (net of DLG costs) to remain above 5% over the loan's life (typically 12-18 months), and anticipates increased collection revenue.  There's no set limit on the number of partners using the DLG model. They are also focusing on increasing the volume of both merchant and personal loans, with the latter focusing on adding more lending partners to increase supply.  Expansion into secured lending products like home loans and mortgages is planned for the future but not a near-term priority.\\n\\n* **Increased Monetization of Existing Assets:** Paytm plans to increase monetization from its existing devices (soundboxes) through improved subscription revenue, refurbishment, and redeployment of inactive devices. This involves retrieving inactive devices from merchants, refurbishing them, and redeploying them to new merchants.\\n\\n* **Payment Gateway Expansion:**  Paytm is awaiting approval from the NPCI to onboard new users, which would allow them to invest more in marketing and increase their market share significantly in the UPI consumer space.  They are also looking to leverage their RBI payment gateway license for innovations like cross-border payments and omnichannel payment systems.\\n\\n* **Financial Services Diversification:** Paytm is exploring opportunities in wealth management and insurance, expecting these to contribute meaningfully in later quarters.  The focus is on revenue per customer rather than just the volume of disbursements or GWP.\\n\\n* **Cost Optimization:**  Paytm is aiming to maintain its reduced cost base achieved through increased efficiency and AI-driven solutions.  Further cost optimization opportunities are being actively explored, primarily in operating costs beyond personnel expenses.\\n\\n\\nWhile the company expects to become significantly profitable in the near future and generate free cash flow, they have not yet committed to a specific timeframe for returning cash to shareholders, preferring to prioritize organic business growth first.\\n\", 'financial_performance': 'Paytm\\'s Q2 FY25 earnings call revealed a focus on improved monetization and cost control.  Key financial highlights include:\\n\\n* **Shift to DLG (Direct Loan Guarantee) model:** Paytm transitioned to a DLG model for merchant loans, expensing the upfront DLG cost. While this initially impacts reported profitability, the overall take rate (net of DLG cost) is expected to remain above 5% over the life of the loan (average tenor: 12-18 months). This model is intended to improve capital efficiency and align with industry best practices.  The company emphasized that this model does not change their profit guideline.\\n\\n* **Improved Net Payment Margin (NPM):**  The NPM showed improvement due to better merchant monetization and control of payment gateway costs. The company believes this improved level is sustainable, excluding UPI incentives.  Including UPI incentives, the payment processing margin is expected to be significantly higher for the year.\\n\\n* **Cost Reduction:**  Significant cost reductions were achieved this quarter, primarily driven by reductions in employee costs.  The company believes this represents a new, lower cost base, though they continue to seek further efficiencies.\\n\\n* **Financial Services Revenue:**  Revenue growth in financial services was strong, despite relatively flat growth in the number of financial services customers. This suggests improved monetization within the existing customer base.  The company expects continued scaling of financial services revenue, particularly in merchant and personal loans, though personal loan growth depends on securing more lending partners.  While experimenting with secured loan products (like home loans), the current priority remains merchant and personal loans.\\n\\n* **Cash on Hand:**  Paytm has a significant cash balance. The company plans to discuss its use and potential shareholder returns with the board, aiming for sustainable free cash flow positivity before making any decisions on excess cash allocation.\\n\\n* **Other Initiatives:**  While not expected to be major contributors in the near term, Paytm is exploring various initiatives like the \"soundbox\" advertising platform and expanding into areas like wealth insurance.  The company is emphasizing increased productivity per employee to achieve growth rather than large increases in headcount.\\n\\n\\nOverall, the call reflects a strategy of focused growth, cost optimization, and a transition to more efficient business models within financial services, aiming for sustainable profitability and potential future shareholder returns.  The company highlights the significant opportunities presented by increasing UPI customer penetration.\\n', 'market_dynamics': \"Paytm's Q2 FY25 earnings call revealed a shift towards a Direct Loan Guarantee (DLG) model for merchant loans.  This model, while initially incurring upfront DLG costs (fully expensed in the quarter), is expected to yield a higher overall take rate (above 5% net of DLG costs) over the loan's 12-18 month tenor due to increased collection revenue.  The company maintains that this shift aligns with industry practice and regulatory guidelines, doesn't require additional capital, and doesn't alter their profit guidance.\\n\\nImproved net payment margin (NPM) was attributed to better merchant monetization and reduced payment gateway costs.  Management anticipates maintaining these NPM levels going forward, though some quarterly volatility is expected.  The company is focusing on increased monetization of devices through subscription revenue and refurbishment/redeployment efforts.\\n\\nThe DLG model is being considered for expansion to other lending partners, but there's no set cap or widespread adoption planned.  While the company is open to expanding personal loan distribution, they acknowledge that progress depends on adding and scaling lending partners and cautiously navigating current market conditions.  Plans for reviving the Paytm wallet business are on hold pending regulatory clarity.\\n\\nCost reduction efforts have resulted in what management believes is a new, lower cost base, though further optimization opportunities are being explored, particularly in cloud costs and AI-driven efficiencies.  Active sales employees are stabilizing around 30,000-31,000, with a focus on enhancing productivity rather than significant headcount increases.\\n\\nRegarding future growth, the company expects financial services revenue to continue scaling, with significant profitability anticipated in the near term, driven by strong demand for merchant and personal loans.  While exploring secured lending products, the focus remains on merchant and personal loans for now.  The company is awaiting regulatory approval to fully leverage the UPI consumer market, which is seen as a major growth opportunity.  Return of excess cash to shareholders will be considered after achieving sustained free cash flow positivity.\\n\", 'regulatory_or_policy_changes': \"The Paytm earnings call transcript reveals a shift in their merchant loan model to a Direct Lending Guarantee (DLG) structure, aligning with industry practice and regulatory guidance.  While the overall net take rate (after accounting for upfront DLG costs and subsequent collection revenue) is expected to remain above 5%, the upfront expense of the DLG impacts profitability in the short term.  The company expensed the entire DLG amount in the quarter it was given, and this did not change their profit guidance. They are open to expanding the DLG model to other lending partners but haven't set a cap on its usage.  There's also discussion of increased monetization of previously inactive devices through refurbishment and redeployment, primarily focusing on subscription revenues.  The company plans to maintain their reduced cost base and continue to seek efficiencies, and are optimistic about further reductions.  Regarding future plans, they are cautiously optimistic about growth in personal loan distribution, pending the addition and scaling of new lending partners.  The company is awaiting regulatory clarity before reactivating their wallet business.  Finally, the company stated that they are prioritizing organic growth and have not yet determined a plan for returning excess cash to shareholders, although this will be discussed with the board.\\n\"}\n"
          ]
        }
      ]
    },
    {
      "cell_type": "markdown",
      "source": [
        "**Local test - Summarize Dr Lal Pathlabs with company_name field as empty string**"
      ],
      "metadata": {
        "id": "OSteSaBIvbov"
      }
    },
    {
      "cell_type": "code",
      "source": [
        "import requests\n",
        "import json\n",
        "\n",
        "# Define the company name and transcript text\n",
        "company_name = \"\"\n",
        "transcript_text = text_dr_lal_pathlabs\n",
        "\n",
        "# Create the payload\n",
        "payload = {\n",
        "    \"company_name\": company_name,\n",
        "    \"transcript_text\": transcript_text\n",
        "}\n",
        "\n",
        "# Define the API endpoint\n",
        "url = \"http://127.0.0.1:5002/earnings_transcript_summary\"\n",
        "\n",
        "# Send the POST request with the JSON payload\n",
        "response = requests.post(url, json=payload)\n",
        "\n",
        "# Print the response\n",
        "if response.status_code == 200:\n",
        "    print(\"Response:\", response.json())\n",
        "else:\n",
        "    print(\"Error:\", response.status_code, response.text)\n"
      ],
      "metadata": {
        "colab": {
          "base_uri": "https://localhost:8080/"
        },
        "id": "6rZH8DALvtQs",
        "outputId": "e7ad0e96-da3c-4c46-8388-f2ca1c6b1381"
      },
      "execution_count": 56,
      "outputs": [
        {
          "output_type": "stream",
          "name": "stderr",
          "text": [
            "INFO:werkzeug:127.0.0.1 - - [30/Dec/2024 04:07:03] \"\u001b[31m\u001b[1mPOST /earnings_transcript_summary HTTP/1.1\u001b[0m\" 400 -\n"
          ]
        },
        {
          "output_type": "stream",
          "name": "stdout",
          "text": [
            "Error: 400 {\"error\":\"No company_name provided\"}\n",
            "\n"
          ]
        }
      ]
    },
    {
      "cell_type": "markdown",
      "source": [
        "**Local test - Summarize Dr Lal Pathlabs with transcript_text field as empty string**"
      ],
      "metadata": {
        "id": "88YrTsU7v1WF"
      }
    },
    {
      "cell_type": "code",
      "source": [
        "import requests\n",
        "import json\n",
        "\n",
        "# Define the company name and transcript text\n",
        "company_name = \"Dr Lal Pathlabs\"\n",
        "transcript_text = \"\"\n",
        "\n",
        "# Create the payload\n",
        "payload = {\n",
        "    \"company_name\": company_name,\n",
        "    \"transcript_text\": transcript_text\n",
        "}\n",
        "\n",
        "# Define the API endpoint\n",
        "url = \"http://127.0.0.1:5002/earnings_transcript_summary\"\n",
        "\n",
        "# Send the POST request with the JSON payload\n",
        "response = requests.post(url, json=payload)\n",
        "\n",
        "# Print the response\n",
        "if response.status_code == 200:\n",
        "    print(\"Response:\", response.json())\n",
        "else:\n",
        "    print(\"Error:\", response.status_code, response.text)\n"
      ],
      "metadata": {
        "colab": {
          "base_uri": "https://localhost:8080/"
        },
        "id": "qwlH9E9uwCUi",
        "outputId": "c8429c4b-c8e6-4314-fdaa-90bf3bd1c839"
      },
      "execution_count": 57,
      "outputs": [
        {
          "output_type": "stream",
          "name": "stderr",
          "text": [
            "INFO:werkzeug:127.0.0.1 - - [30/Dec/2024 04:10:05] \"\u001b[31m\u001b[1mPOST /earnings_transcript_summary HTTP/1.1\u001b[0m\" 400 -\n"
          ]
        },
        {
          "output_type": "stream",
          "name": "stdout",
          "text": [
            "Error: 400 {\"error\":\"No transcript_text content provided\"}\n",
            "\n"
          ]
        }
      ]
    },
    {
      "cell_type": "markdown",
      "source": [
        "**Local test - Summarize Dr Lal Pathlabs with company_name field absent**"
      ],
      "metadata": {
        "id": "P8_FWmgAwUYm"
      }
    },
    {
      "cell_type": "code",
      "source": [
        "import requests\n",
        "import json\n",
        "\n",
        "# Define the company name and transcript text\n",
        "company_name = \"Dr Lal Pathlabs\"\n",
        "transcript_text = text_dr_lal_pathlabs\n",
        "\n",
        "# Create the payload\n",
        "payload = {\n",
        "    \"transcript_text\": transcript_text\n",
        "}\n",
        "\n",
        "# Define the API endpoint\n",
        "url = \"http://127.0.0.1:5002/earnings_transcript_summary\"\n",
        "\n",
        "# Send the POST request with the JSON payload\n",
        "response = requests.post(url, json=payload)\n",
        "\n",
        "# Print the response\n",
        "if response.status_code == 200:\n",
        "    print(\"Response:\", response.json())\n",
        "else:\n",
        "    print(\"Error:\", response.status_code, response.text)\n"
      ],
      "metadata": {
        "colab": {
          "base_uri": "https://localhost:8080/"
        },
        "id": "GtwTMfuDwGgs",
        "outputId": "50c69e0a-f736-4ac4-99f0-5437e5b40f6a"
      },
      "execution_count": 58,
      "outputs": [
        {
          "output_type": "stream",
          "name": "stderr",
          "text": [
            "INFO:werkzeug:127.0.0.1 - - [30/Dec/2024 04:10:09] \"\u001b[31m\u001b[1mPOST /earnings_transcript_summary HTTP/1.1\u001b[0m\" 400 -\n"
          ]
        },
        {
          "output_type": "stream",
          "name": "stdout",
          "text": [
            "Error: 400 {\"error\":\"No company_name provided\"}\n",
            "\n"
          ]
        }
      ]
    },
    {
      "cell_type": "markdown",
      "source": [
        "**Local test - Summarize Dr Lal Pathlabs with transcript_text field absent**"
      ],
      "metadata": {
        "id": "VEoY_ssNwYWJ"
      }
    },
    {
      "cell_type": "code",
      "source": [
        "import requests\n",
        "import json\n",
        "\n",
        "# Define the company name and transcript text\n",
        "company_name = \"Dr Lal Pathlabs\"\n",
        "transcript_text = text_dr_lal_pathlabs\n",
        "\n",
        "# Create the payload\n",
        "payload = {\n",
        "    \"company_name\": company_name,\n",
        "}\n",
        "\n",
        "# Define the API endpoint\n",
        "url = \"http://127.0.0.1:5002/earnings_transcript_summary\"\n",
        "\n",
        "# Send the POST request with the JSON payload\n",
        "response = requests.post(url, json=payload)\n",
        "\n",
        "# Print the response\n",
        "if response.status_code == 200:\n",
        "    print(\"Response:\", response.json())\n",
        "else:\n",
        "    print(\"Error:\", response.status_code, response.text)\n"
      ],
      "metadata": {
        "colab": {
          "base_uri": "https://localhost:8080/"
        },
        "id": "IfsFjdCRwIYn",
        "outputId": "ed17b885-738e-44c5-b2fc-352ba0917043"
      },
      "execution_count": 59,
      "outputs": [
        {
          "output_type": "stream",
          "name": "stderr",
          "text": [
            "INFO:werkzeug:127.0.0.1 - - [30/Dec/2024 04:10:12] \"\u001b[31m\u001b[1mPOST /earnings_transcript_summary HTTP/1.1\u001b[0m\" 400 -\n"
          ]
        },
        {
          "output_type": "stream",
          "name": "stdout",
          "text": [
            "Error: 400 {\"error\":\"No transcript_text content provided\"}\n",
            "\n"
          ]
        }
      ]
    },
    {
      "cell_type": "markdown",
      "source": [
        "**PYTHONANYWHERE API TEST - Summarize Dr Lal Pathlabs**"
      ],
      "metadata": {
        "id": "32BUTR3Vwfal"
      }
    },
    {
      "cell_type": "code",
      "source": [
        "import requests\n",
        "import json\n",
        "\n",
        "# Define the company name and transcript text\n",
        "company_name = \"Dr Lal Pathlabs\"\n",
        "transcript_text = text_dr_lal_pathlabs\n",
        "\n",
        "# Create the payload\n",
        "payload = {\n",
        "    \"company_name\": company_name,\n",
        "    \"transcript_text\": transcript_text\n",
        "}\n",
        "\n",
        "# Define the API endpoint\n",
        "url = \"https://kshitijdegg.pythonanywhere.com/earnings_transcript_summary\"\n",
        "\n",
        "# Send the POST request with the JSON payload\n",
        "response = requests.post(url, json=payload)\n",
        "\n",
        "# Print the response\n",
        "if response.status_code == 200:\n",
        "    print(\"Response:\", response.json())\n",
        "else:\n",
        "    print(\"Error:\", response.status_code, response.text)\n"
      ],
      "metadata": {
        "colab": {
          "base_uri": "https://localhost:8080/"
        },
        "id": "ice5PaWalu7G",
        "outputId": "62a23e21-1f34-4712-e1e4-734f1ae7950b"
      },
      "execution_count": 60,
      "outputs": [
        {
          "output_type": "stream",
          "name": "stdout",
          "text": [
            "Response: {'company_name': 'Dr Lal Pathlabs', 'environmental_risks': \"The provided earnings transcript for Dr Lal PathLabs does not explicitly mention any environmental risks.  The discussion focuses on financial performance, market dynamics, competitive landscape, and expansion plans.  There is no mention of waste disposal, emissions, or other environmental concerns associated with the company's operations.\\n\", 'expansion_plans': 'Dr. Lal PathLabs\\' Q2 FY25 earnings transcript reveals expansion plans focused on organic growth, primarily through:\\n\\n* **Increased lab and collection center additions:**  The company plans to open 15-20 additional labs in FY25, accelerating the addition of collection centers to support them and meet growing demand, particularly in Tier 3 and Tier 4 markets.  Approximately half of these labs were already added in the first half of the fiscal year.  While the company anticipates sustaining this level of lab additions for potentially one more year, they expect to return to pre-COVID levels of expansion thereafter (10-15 labs annually).\\n\\n* **Expansion into Tier 3 and Tier 4 markets:**  This involves deeper penetration into existing core geographies (North and East India) and strategic strengthening of their footprint in creek clusters in West and South India.  Targeted brand campaigns in selected cities will support this expansion.  While there are challenges related to competition from unorganized players and established doctor-patient relationships in these areas, the company believes its scale and brand recognition will facilitate the conversion of unorganized to organized healthcare.\\n\\n* **Growth of bundled testing (\"Swasthfit\"):**  This program, currently contributing almost 24% of overall revenue, is expanding beyond Tier 2 markets to address the increasing demand for non-communicable disease management.  The company expects continued growth in this area.\\n\\nThe company also stated they are continuously investing in technology and communication to enhance efficiency and brand visibility.  Inorganic growth options are being evaluated, but the primary focus remains on organic expansion.\\n', 'financial_performance': 'Dr. Lal PathLabs\\' Q2 FY25 earnings conference call revealed strong financial performance.  Revenue reached ₹660 crore (a 9.8% increase YoY), driven by an 8.6% rise in sample volume (23 million) and a 3.9% increase in patient volume (7.8 million).  Revenue per patient improved to ₹844 (a 5.7% increase YoY), attributed to product and geography mix, not price hikes.\\n\\nProfitability also saw significant growth. EBITDA increased by 13.9% YoY to ₹202 crore (30.7% margin), while PBT rose 20.3% to ₹183 crore (27.7% margin).  PAT grew by 18.1% YoY to ₹131 crore (19.8% margin).  The company maintained negative working capital (-22 days) and a healthy net cash position of ₹1,095 crore as of September 30, 2024.  A second interim dividend of ₹6 per share was approved.\\n\\nGrowth was relatively consistent across regions, with the West region performing particularly well, exceeding overall company growth and reaching nearly ₹100 crore in quarterly revenue. The \"Swasthfit\" bundled testing program contributed nearly 24% of overall revenue.  The company plans to open 15-20 new labs in FY25, focusing on expanding into Tier-3 and Tier-4 markets.  Management emphasized a continued focus on organic growth, strategic investments, and maintaining affordability despite competitor price increases.  While the company isn\\'t averse to price increases, they prioritize expanding their reach into underserved areas.\\n', 'market_dynamics': 'Dr. Lal PathLabs\\' Q2 FY25 earnings call highlighted a positive momentum, with revenue and profit after tax growing by 9.8% and 18.1% respectively.  This growth was driven by increased sample volumes (8.6% growth to 23 million) and patient volumes (3.9% growth to 7.8 million), alongside a 5.7% rise in revenue per patient (Rs. 844) due to product and geography mix, not price increases.\\n\\nKey market dynamics discussed include:\\n\\n* **Bundled test packages (\"Swasthfit\"):** This is becoming a significant trend, leading to higher realization per patient and simplified business processes. Swasthfit currently accounts for almost 24% of company revenue.\\n* **Tier 3 and Tier 4 market penetration:** The company is strategically expanding into these underserved regions, offering affordable, high-quality diagnostics.  While challenges exist in converting unorganized players to organized ones and navigating existing doctor-patient relationships, the company believes the time required for this conversion is decreasing as it builds scale. Realizations in these markets are similar to contiguous areas.\\n* **Competition:** While competitive intensity remains, irrational pricing and discounting have lessened.  Competition from hospitals entering the retail pathology market is an emerging threat.\\n* **Suburban performance:** The Suburban business unit showed double-digit revenue growth and improved margins (to 20% in Q2, from 14% last quarter), driven by operating leverage and efficiency improvements.  However, management prioritizes top-line growth over margin optimization in this unit for now.\\n* **Network expansion:** The company plans to open 15-20 additional labs this financial year, primarily in core geographies, alongside increasing collection centers.  This expansion is expected to contribute to future growth, but the impact on margins is expected to be most prominent in the second half of the year.\\n* **Pricing strategy:**  The company has chosen not to raise prices, prioritizing market share gains and affordability in underserved areas.  This is a strategic decision, but not a long-term commitment if inflationary pressures necessitate price adjustments.\\n\\n\\nOverall, the company reported strong performance driven by organic growth, strategic initiatives like bundled testing, and expansion into new markets.  While maintaining a focus on organic growth, the company continues to evaluate inorganic opportunities.  Management expects to maintain or slightly improve on the previous year\\'s growth rate, but detailed guidance for FY26 will be provided later.\\n', 'regulatory_or_policy_changes': 'The Dr. Lal PathLabs Q2 & H1 FY25 earnings transcript does not detail specific regulatory or policy changes impacting the company.  The discussion focuses on the company\\'s internal strategies and performance, including:\\n\\n* **Expansion into Tier 3 and Tier 4 markets:**  This is a business strategy, not a regulatory change.  The company faces challenges in these markets related to competition from unorganized players and strong doctor-patient relationships.\\n* **Bundled test packages (\"Swasthfit\"):** This is a business strategy aimed at improving revenue per patient and simplifying processes.  It\\'s not a regulatory change.\\n* **Digital integration and home diagnostic services:** These are business strategies to improve patient experience and efficiency, not regulatory changes.\\n\\n\\nWhile the transcript mentions the evolving healthcare landscape and policy impetus as contributing to the company\\'s growth, it does *not* specify any particular regulatory or policy changes that directly impacted Dr. Lal PathLabs\\' financial results or operations during this period.\\n'}\n"
          ]
        }
      ]
    },
    {
      "cell_type": "markdown",
      "source": [
        "**PYTHONANYWHERE API test - Summarize One97(Paytm)**"
      ],
      "metadata": {
        "id": "6pJpCiedxK0R"
      }
    },
    {
      "cell_type": "code",
      "source": [
        "import requests\n",
        "import json\n",
        "\n",
        "# Define the company name and transcript text\n",
        "company_name = \"One97 (Paytm)\"\n",
        "transcript_text = text_one97\n",
        "\n",
        "# Create the payload\n",
        "payload = {\n",
        "    \"company_name\": company_name,\n",
        "    \"transcript_text\": transcript_text\n",
        "}\n",
        "\n",
        "# Define the API endpoint\n",
        "url = \"https://kshitijdegg.pythonanywhere.com/earnings_transcript_summary\"\n",
        "\n",
        "# Send the POST request with the JSON payload\n",
        "response = requests.post(url, json=payload)\n",
        "\n",
        "# Print the response\n",
        "if response.status_code == 200:\n",
        "    print(\"Response:\", response.json())\n",
        "else:\n",
        "    print(\"Error:\", response.status_code, response.text)\n"
      ],
      "metadata": {
        "colab": {
          "base_uri": "https://localhost:8080/"
        },
        "id": "R7S88sLjVPuN",
        "outputId": "831d763f-7b9c-4296-8660-aa454495240a"
      },
      "execution_count": 32,
      "outputs": [
        {
          "output_type": "stream",
          "name": "stdout",
          "text": [
            "Response: {'company_name': 'One97 (Paytm)', 'environmental_risks': \"The Paytm earnings transcript (October 22, 2024) does *not* directly discuss environmental risks.  The conversation focuses entirely on the company's financial performance, particularly its lending business model (introducing a Direct Lending Guarantee, or DLG, model) and cost-cutting measures. There is no mention of carbon footprint, resource consumption, waste generation, pollution, or any other environmental impact related to Paytm's operations or products.\\n\", 'expansion_plans': \"Paytm's expansion plans, as revealed in the October 22, 2024 earnings call transcript, center on several key areas:\\n\\n* **Lending Business Expansion:**  Paytm is focusing on scaling its merchant and personal loan businesses.  This includes adding more lending partners and increasing the scale of existing partnerships.  They are employing a Direct Lending Guarantee (DLG) model for merchant loans, which, while initially expensing the upfront DLG cost, aims for a net take rate above 5% over the loan's life (approximately 12-18 months).  The company is open to expanding the DLG model to more partners but doesn't have a set limit on its usage. While exploring secured lending products like home loans, this is not a current top priority.\\n\\n* **Increased Monetization of Existing Assets:** Paytm is prioritizing increased monetization of its existing Point of Sale (POS) devices. This primarily involves boosting subscription revenues from active devices and improving the refurbishment and redeployment of inactive devices to acquire new merchants without significant capital expenditure.\\n\\n* **Growth in Payment Gateway Services:** Paytm anticipates significant growth in its payment processing margin, driven by better merchant monetization and cost control within its payment gateway operations.  They expect this improved margin to be maintained, barring typical quarterly fluctuations.  The significant growth potential is linked to the upcoming onboarding of new UPI users, pending NPCI approval. Once approved, marketing spending will increase significantly.\\n\\n* **Wealth and Insurance Distribution:** Paytm plans to expand its wealth management and insurance distribution businesses, expecting them to become materially important contributors in future quarters.  Revenue will be measured by revenue per customer rather than gross written premiums or disbursements.\\n\\n\\nThe transcript does not offer specific numerical targets for expansion in each area, but rather focuses on the strategic initiatives and the general direction of growth.  The company also discussed cost optimization and the potential for future cash returns to shareholders once it achieves sustained free cash flow positivity.\\n\", 'financial_performance': \"Paytm's Q2 FY25 earnings call revealed a shift to a Direct Lending Guarantee (DLG) model for merchant loans.  While this model incurs upfront DLG costs (fully expensed in the current quarter), it's expected to yield a net take rate exceeding 5% over the loan's lifetime (approximately 12-18 months), potentially higher depending on credit losses.  This is comparable to the previous model's take rate, but the revenue is now more heavily weighted toward collections over time.  The company reported improved net payment margins due to better merchant monetization and cost control in the payment gateway.  While the current cost base is considered the new baseline, further optimization is ongoing.  \\n\\nSignificant cost reductions were achieved, particularly in employee costs (60% reduction in support manpower in ten months, largely due to AI-driven solutions).  The company is optimistic about maintaining its improved margins, although some quarterly volatility is expected.  While there are plans to explore increasing monetization from devices (primarily through subscription revenue), growth in personal loans is currently hindered by the need for more lending partners.  The company expects financial services revenue to continue scaling.  No immediate plans for returning cash to shareholders were announced, with a focus on operational improvements and sustained free cash flow generation first.  There is potential for expansion in the UPI consumer market following regulatory approvals.\\n\", 'market_dynamics': \"Paytm's Q2 FY25 earnings call highlighted a shift to a Direct Loan Guarantee (DLG) model for merchant loans.  While this initially increases upfront costs (fully expensed in the current quarter), it's expected to yield a higher overall take rate (above 5% net of DLG costs) over the loan's 12-18 month tenor due to increased collection revenue.  Management emphasized that this aligns with industry best practices and doesn't alter their profit guidance.\\n\\nThe company also reported improved net payment margins (NPM), driven by better merchant monetization and controlled payment gateway costs.  They expect to maintain these NPM levels going forward, with further improvement anticipated once UPI incentives are fully incorporated.\\n\\nIncreased monetization of previously inactive devices is a key focus, primarily through higher subscription revenues from reactivated and redeployed devices.  While the company is open to expanding the DLG model to other lending partners, there's no set cap on its usage.  The Paytm wallet's future remains uncertain, pending regulatory guidance.\\n\\nCost reduction efforts have resulted in a significantly lower cost base, which management believes represents a new baseline, though further optimization opportunities exist, particularly in cloud costs and AI-driven efficiencies.  Significant reductions in manpower costs related to support were cited as a success story.\\n\\nRegarding loan growth, Paytm aims to expand its personal loan business by adding and scaling lending partners.  While the soundbox initiative is ongoing, it's not expected to be a significant revenue contributor in the near term.  The company sees substantial potential in both merchant and personal loans, though secured lending is not a major priority currently.  Wealth and insurance products are expected to contribute more meaningfully in later quarters.\\n\\nFinally, the company holds substantial cash reserves and will determine how to utilize excess funds (including potential shareholder returns) after achieving sustainable free cash flow positivity, a goal expected to be met relatively soon.  The company sees huge potential for growth in consumer UPI market share once they receive necessary approvals.\\n\", 'regulatory_or_policy_changes': \"The Paytm earnings call transcript reveals a shift in their merchant loan business model to a Direct Lending Guarantee (DLG) structure.  This change aligns with industry practice and regulatory guidance.  The DLG model involves Paytm providing an upfront guarantee to lenders, which is fully expensed in the quarter it's given.  This leads to higher collection revenue over the loan's lifetime (approximately 12-18 months).  While the upfront DLG expense impacts short-term profitability, the overall net take rate (after DLG costs) is expected to remain above 5%, similar to the previous model.  Paytm is open to expanding the DLG model to other lending partners but doesn't have a specific target for its usage.  There is also discussion around the potential reactivation and redeployment of inactive devices to increase monetization, primarily through subscription revenue.  Finally, Paytm awaits regulatory clarity on their wallet business before considering partnerships with banks.  There's also ongoing work on new loan products (home loans, mortgages), but the immediate focus remains on merchant and personal loans.\\n\"}\n"
          ]
        }
      ]
    },
    {
      "cell_type": "markdown",
      "source": [
        "**PYTHONANYWHERE API TEST - Summarize Dr Lal Pathlabs with company_name field as empty string - Error handling**"
      ],
      "metadata": {
        "id": "XyoZlmE5xIdo"
      }
    },
    {
      "cell_type": "code",
      "source": [
        "import requests\n",
        "import json\n",
        "\n",
        "# Define the company name and transcript text\n",
        "company_name = \"\"\n",
        "transcript_text = text_dr_lal_pathlabs\n",
        "\n",
        "# Create the payload\n",
        "payload = {\n",
        "    \"company_name\": company_name,\n",
        "    \"transcript_text\": transcript_text\n",
        "}\n",
        "\n",
        "# Define the API endpoint\n",
        "url = \"https://kshitijdegg.pythonanywhere.com/earnings_transcript_summary\"\n",
        "\n",
        "# Send the POST request with the JSON payload\n",
        "response = requests.post(url, json=payload)\n",
        "\n",
        "# Print the response\n",
        "if response.status_code == 200:\n",
        "    print(\"Response:\", response.json())\n",
        "else:\n",
        "    print(\"Error:\", response.status_code, response.text)\n"
      ],
      "metadata": {
        "id": "CfCXVz4nntY0",
        "colab": {
          "base_uri": "https://localhost:8080/"
        },
        "outputId": "bdd4307b-9219-4ba1-f1f0-f329cf95434f"
      },
      "execution_count": 61,
      "outputs": [
        {
          "output_type": "stream",
          "name": "stdout",
          "text": [
            "Error: 400 {\"error\":\"No company_name provided\"}\n",
            "\n"
          ]
        }
      ]
    },
    {
      "cell_type": "markdown",
      "source": [
        "**PYTHONANYWHERE API TEST - Summarize Dr Lal Pathlabs with transcript_text field as empty string - Error handling**"
      ],
      "metadata": {
        "id": "l6QbNyB-yBiH"
      }
    },
    {
      "cell_type": "code",
      "source": [
        "import requests\n",
        "import json\n",
        "\n",
        "# Define the company name and transcript text\n",
        "company_name = \"Dr Lal Pathlabs\"\n",
        "transcript_text = \"\"\n",
        "\n",
        "# Create the payload\n",
        "payload = {\n",
        "    \"company_name\": company_name,\n",
        "    \"transcript_text\": transcript_text\n",
        "}\n",
        "\n",
        "# Define the API endpoint\n",
        "url = \"https://kshitijdegg.pythonanywhere.com/earnings_transcript_summary\"\n",
        "\n",
        "# Send the POST request with the JSON payload\n",
        "response = requests.post(url, json=payload)\n",
        "\n",
        "# Print the response\n",
        "if response.status_code == 200:\n",
        "    print(\"Response:\", response.json())\n",
        "else:\n",
        "    print(\"Error:\", response.status_code, response.text)\n"
      ],
      "metadata": {
        "colab": {
          "base_uri": "https://localhost:8080/"
        },
        "id": "Ifl1YUBjxrND",
        "outputId": "e254458f-937c-4af8-d8a8-63fb76ebb1e8"
      },
      "execution_count": 62,
      "outputs": [
        {
          "output_type": "stream",
          "name": "stdout",
          "text": [
            "Error: 400 {\"error\":\"No transcript_text content provided\"}\n",
            "\n"
          ]
        }
      ]
    },
    {
      "cell_type": "markdown",
      "source": [
        "**PYTHONANYWHERE API TEST - Summarize Dr Lal Pathlabs with company_name field absent - Error handling**"
      ],
      "metadata": {
        "id": "rsew_RouySZ1"
      }
    },
    {
      "cell_type": "code",
      "source": [
        "import requests\n",
        "import json\n",
        "\n",
        "# Define the company name and transcript text\n",
        "company_name = \"Dr Lal Pathlabs\"\n",
        "transcript_text = text_dr_lal_pathlabs\n",
        "\n",
        "# Create the payload\n",
        "payload = {\n",
        "    \"transcript_text\": transcript_text\n",
        "}\n",
        "\n",
        "# Define the API endpoint\n",
        "url = \"https://kshitijdegg.pythonanywhere.com/earnings_transcript_summary\"\n",
        "\n",
        "# Send the POST request with the JSON payload\n",
        "response = requests.post(url, json=payload)\n",
        "\n",
        "# Print the response\n",
        "if response.status_code == 200:\n",
        "    print(\"Response:\", response.json())\n",
        "else:\n",
        "    print(\"Error:\", response.status_code, response.text)\n"
      ],
      "metadata": {
        "colab": {
          "base_uri": "https://localhost:8080/"
        },
        "id": "Je7bPU68xsEa",
        "outputId": "86438df3-7ae5-41e0-f1b8-cd0b79d7f786"
      },
      "execution_count": 63,
      "outputs": [
        {
          "output_type": "stream",
          "name": "stdout",
          "text": [
            "Error: 400 {\"error\":\"No company_name provided\"}\n",
            "\n"
          ]
        }
      ]
    },
    {
      "cell_type": "markdown",
      "source": [
        "**PYTHONANYWHERE API TEST - Summarize Dr Lal Pathlabs with transcript_text field absent - Error handling**"
      ],
      "metadata": {
        "id": "DbZOQ03jyJUi"
      }
    },
    {
      "cell_type": "code",
      "source": [
        "import requests\n",
        "import json\n",
        "\n",
        "# Define the company name and transcript text\n",
        "company_name = \"Dr Lal Pathlabs\"\n",
        "transcript_text = text_dr_lal_pathlabs\n",
        "\n",
        "# Create the payload\n",
        "payload = {\n",
        "    \"company_name\": company_name,\n",
        "}\n",
        "\n",
        "# Define the API endpoint\n",
        "url = \"https://kshitijdegg.pythonanywhere.com/earnings_transcript_summary\"\n",
        "\n",
        "# Send the POST request with the JSON payload\n",
        "response = requests.post(url, json=payload)\n",
        "\n",
        "# Print the response\n",
        "if response.status_code == 200:\n",
        "    print(\"Response:\", response.json())\n",
        "else:\n",
        "    print(\"Error:\", response.status_code, response.text)\n"
      ],
      "metadata": {
        "colab": {
          "base_uri": "https://localhost:8080/"
        },
        "id": "PUDQ_KljxsdG",
        "outputId": "2265b9a2-5d45-4d18-fd4c-ca6c7f5a2287"
      },
      "execution_count": 65,
      "outputs": [
        {
          "output_type": "stream",
          "name": "stdout",
          "text": [
            "Error: 400 {\"error\":\"No transcript_text content provided\"}\n",
            "\n"
          ]
        }
      ]
    },
    {
      "cell_type": "markdown",
      "source": [],
      "metadata": {
        "id": "fIT38os_xpl-"
      }
    }
  ]
}